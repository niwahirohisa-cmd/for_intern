{
 "cells": [
  {
   "cell_type": "code",
   "execution_count": null,
   "metadata": {},
   "outputs": [],
   "source": [
    "#foliumnをインストールしてください\n",
    "#pip install folium\n",
    "#地点数が３桁程度なら、おそらく、サクサク動きます\n",
    "\n",
    "#csvの中身は下記を想定しています\n",
    "#lat,lon,name\n",
    "#35,135,a\n",
    "#36,136,b\n",
    "#、、\n",
    "#\n",
    "import folium\n",
    "import pandas as pd\n",
    "\n",
    "# CSVファイルの読み込み\n",
    "data = pd.read_csv('/test/test.csv')\n",
    "\n",
    "# 地図の中心をデータの平均座標に設定\n",
    "m = folium.Map(location=[data['lat'].mean(), data['lon'].mean()], zoom_start=10)\n",
    "\n",
    "# 各行をループして、マーカーを追加\n",
    "for _, row in data.iterrows():\n",
    "    folium.Marker(\n",
    "        [row['lat'], row['lon']],\n",
    "        popup=row['name'],\n",
    "    ).add_to(m)\n",
    "\n",
    "# 地図をHTMLとして保存\n",
    "m.save('map.html')\n"
   ]
  }
 ],
 "metadata": {
  "language_info": {
   "name": "python"
  },
  "orig_nbformat": 4
 },
 "nbformat": 4,
 "nbformat_minor": 2
}
