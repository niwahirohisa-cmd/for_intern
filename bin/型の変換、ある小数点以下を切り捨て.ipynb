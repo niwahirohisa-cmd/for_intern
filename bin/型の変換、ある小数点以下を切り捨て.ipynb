{
 "cells": [
  {
   "cell_type": "code",
   "execution_count": null,
   "metadata": {},
   "outputs": [],
   "source": [
    "#データ型を変更する\n",
    "########################################\n",
    "import pandas as pd\n",
    "\n",
    "# サンプルのDataFrameを作成\n",
    "df = pd.DataFrame({\n",
    "    'column_x': [1.1, 2.2, 3.3]\n",
    "})\n",
    "\n",
    "# 'column_x'のデータ型を確認\n",
    "print(df['column_x'].dtype)  # 出力: float64\n",
    "\n",
    "# 'column_x'のデータ型をfloat32に変更\n",
    "df['column_x'] = df['column_x'].astype('float32')\n",
    "\n",
    "# 変更後のデータ型を確認\n",
    "print(df['column_x'].dtype)  # 出力: float32\n",
    "########################################\n",
    "#桁数を減らす\n",
    "#小数点第2位まで\n",
    "#四捨五入とは異なる動きをします\n",
    "df[\"column_x\"] = df[\"column_x\"].round(2)\n",
    "########################################"
   ]
  }
 ],
 "metadata": {
  "kernelspec": {
   "display_name": "base",
   "language": "python",
   "name": "python3"
  },
  "language_info": {
   "name": "python",
   "version": "3.9.5"
  },
  "orig_nbformat": 4
 },
 "nbformat": 4,
 "nbformat_minor": 2
}
